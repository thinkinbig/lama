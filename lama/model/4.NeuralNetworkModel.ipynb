{
 "cells": [
  {
   "cell_type": "markdown",
   "metadata": {},
   "source": [
    "# Training with Neural Network\n",
    "\n",
    "Neural Networks work on Classification problem, but as we have discovered, it can also be used to tackle regression ones. We are not expecting a good result though."
   ]
  },
  {
   "cell_type": "code",
   "execution_count": 1,
   "metadata": {},
   "outputs": [],
   "source": [
    "import os\n",
    "import logging\n",
    "\n",
    "import numpy as np\n",
    "import pandas as pd\n",
    "import tensorflow as tf\n",
    "import tensorflow.keras as keras\n",
    "\n",
    "from tensorflow.keras.layers import Input, Dense, Flatten, Dropout\n",
    "from tensorflow.keras.models import Model, Sequential\n",
    "\n",
    "\n",
    "from data import DATA_DIR\n",
    "from lama.util.decorators import enable_logging\n",
    "from lama.preprocessing.DataProcessor import standarize_col\n",
    "\n",
    "logger = logging.getLogger()\n",
    "\n",
    "OUT_DIR = os.path.join(DATA_DIR, \"pre\")\n",
    "RESULT_DIR = os.path.join(DATA_DIR, \"result\")"
   ]
  },
  {
   "cell_type": "code",
   "execution_count": 2,
   "metadata": {},
   "outputs": [],
   "source": [
    "train = pd.read_csv(os.path.join(OUT_DIR, \"train_groupby.csv\"))\n",
    "test = pd.read_csv(os.path.join(OUT_DIR, \"test_groupby.csv\"))\n",
    "\n",
    "features = train.columns.tolist()\n",
    "features.remove(\"target\")\n",
    "features.remove(\"card_id\")\n",
    "target = 'target'"
   ]
  },
  {
   "cell_type": "markdown",
   "metadata": {},
   "source": [
    "Standarize the data"
   ]
  },
  {
   "cell_type": "code",
   "execution_count": null,
   "metadata": {},
   "outputs": [],
   "source": [
    "for feature in features:\n",
    "    train[feature].values = standarize_col(train[feature])\n",
    "    test[feature].values = standarize_col(test[feature])"
   ]
  },
  {
   "cell_type": "code",
   "execution_count": null,
   "metadata": {},
   "outputs": [],
   "source": [
    "def build_mlp(train):\n",
    "    return Sequential([\n",
    "        Input(shape=train.shape[1], name=\"Input MLP\"),\n",
    "        Flatten(),\n",
    "        Dense(512, activation='relu', name=\"Dense Layer 1\"),\n",
    "        Dense(256, activation='relu', name=\"Dense Layer 2\"),\n",
    "        Dense(128, activation='relu', name=\"Dense Layer 3\"),\n",
    "        Dropout(0.5),\n",
    "        Dense(1, activation='softmax', name='Output MLP')\n",
    "    ])"
   ]
  }
 ],
 "metadata": {
  "interpreter": {
   "hash": "ccbb4ca7fe902b23c4d3bf398cc69bd54ad114cdf2cf797081a3177c4f0863aa"
  },
  "kernelspec": {
   "display_name": "Python 3.9.9 ('lama_gpu')",
   "language": "python",
   "name": "python3"
  },
  "language_info": {
   "codemirror_mode": {
    "name": "ipython",
    "version": 3
   },
   "file_extension": ".py",
   "mimetype": "text/x-python",
   "name": "python",
   "nbconvert_exporter": "python",
   "pygments_lexer": "ipython3",
   "version": "3.9.9"
  },
  "orig_nbformat": 4
 },
 "nbformat": 4,
 "nbformat_minor": 2
}
