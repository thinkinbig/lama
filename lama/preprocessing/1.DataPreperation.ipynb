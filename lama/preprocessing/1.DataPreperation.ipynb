{
 "cells": [
  {
   "cell_type": "markdown",
   "metadata": {},
   "source": [
    "# LAMA into the Wild Part1: DataPreperation"
   ]
  },
  {
   "cell_type": "markdown",
   "metadata": {},
   "source": [
    "# Overview\n",
    "\n",
    "In this section We will preprocess the Data that we needed in the whole program. The result will be stored in `../data/pre`"
   ]
  },
  {
   "cell_type": "code",
   "execution_count": 3,
   "metadata": {},
   "outputs": [],
   "source": [
    "import os\n",
    "import gc\n",
    "import typing as t\n",
    "import logging\n",
    "\n",
    "import pandas as pd\n",
    "import numpy as np\n",
    "import seaborn as sns\n",
    "import matplotlib.pyplot as plt\n",
    "\n",
    "from data import DATA_DIR\n",
    "from lama.util import to_tuple, identity\n",
    "from lama.util.decorators import enable_logging\n",
    "from lama.util.StreamerBuilder import StreamerBuilder\n",
    "from lama.preprocessing.DataProcessor import nans, change_object_col, reformat_dataframe, split_with_index, standarize_col"
   ]
  },
  {
   "cell_type": "markdown",
   "metadata": {},
   "source": [
    "# 1.1 Define Global Constants\n",
    "\n",
    "To make our reading and writing more easier, we decide to define some global constants below, you can change them if you'd like to write to another location."
   ]
  },
  {
   "cell_type": "code",
   "execution_count": 4,
   "metadata": {},
   "outputs": [],
   "source": [
    "OUT_DIR = os.path.join(DATA_DIR, \"pre\")\n",
    "logger = logging.getLogger('root')\n",
    "N_ROWS = 20 # the number rows to see data"
   ]
  },
  {
   "cell_type": "markdown",
   "metadata": {},
   "source": [
    "The process looks alike, we will handle them one by one.\n",
    "\n",
    "- filter out Nan values\n",
    "- check unique columns\n",
    "- convert object values to numericals\n",
    "- catagorize discrete and continous features\n",
    "- scaling columns with Standardizer or Normalizer. "
   ]
  },
  {
   "cell_type": "markdown",
   "metadata": {},
   "source": [
    "# Train and Test\n",
    "\n",
    "We will first handle train and test dataset."
   ]
  },
  {
   "cell_type": "code",
   "execution_count": 5,
   "metadata": {},
   "outputs": [],
   "source": [
    "df_test = pd.read_csv(os.path.join(DATA_DIR, 'test.csv'), header=0, parse_dates= [\"first_active_month\"])\n",
    "df_train = pd.read_csv(os.path.join(DATA_DIR, 'train.csv'), header=0, parse_dates= [\"first_active_month\"])"
   ]
  },
  {
   "cell_type": "code",
   "execution_count": 6,
   "metadata": {},
   "outputs": [
    {
     "data": {
      "text/html": [
       "<div>\n",
       "<style scoped>\n",
       "    .dataframe tbody tr th:only-of-type {\n",
       "        vertical-align: middle;\n",
       "    }\n",
       "\n",
       "    .dataframe tbody tr th {\n",
       "        vertical-align: top;\n",
       "    }\n",
       "\n",
       "    .dataframe thead th {\n",
       "        text-align: right;\n",
       "    }\n",
       "</style>\n",
       "<table border=\"1\" class=\"dataframe\">\n",
       "  <thead>\n",
       "    <tr style=\"text-align: right;\">\n",
       "      <th></th>\n",
       "      <th>first_active_month</th>\n",
       "      <th>card_id</th>\n",
       "      <th>feature_1</th>\n",
       "      <th>feature_2</th>\n",
       "      <th>feature_3</th>\n",
       "      <th>target</th>\n",
       "    </tr>\n",
       "  </thead>\n",
       "  <tbody>\n",
       "    <tr>\n",
       "      <th>0</th>\n",
       "      <td>2017-06-01</td>\n",
       "      <td>C_ID_92a2005557</td>\n",
       "      <td>5</td>\n",
       "      <td>2</td>\n",
       "      <td>1</td>\n",
       "      <td>-0.820283</td>\n",
       "    </tr>\n",
       "    <tr>\n",
       "      <th>1</th>\n",
       "      <td>2017-01-01</td>\n",
       "      <td>C_ID_3d0044924f</td>\n",
       "      <td>4</td>\n",
       "      <td>1</td>\n",
       "      <td>0</td>\n",
       "      <td>0.392913</td>\n",
       "    </tr>\n",
       "    <tr>\n",
       "      <th>2</th>\n",
       "      <td>2016-08-01</td>\n",
       "      <td>C_ID_d639edf6cd</td>\n",
       "      <td>2</td>\n",
       "      <td>2</td>\n",
       "      <td>0</td>\n",
       "      <td>0.688056</td>\n",
       "    </tr>\n",
       "    <tr>\n",
       "      <th>3</th>\n",
       "      <td>2017-09-01</td>\n",
       "      <td>C_ID_186d6a6901</td>\n",
       "      <td>4</td>\n",
       "      <td>3</td>\n",
       "      <td>0</td>\n",
       "      <td>0.142495</td>\n",
       "    </tr>\n",
       "    <tr>\n",
       "      <th>4</th>\n",
       "      <td>2017-11-01</td>\n",
       "      <td>C_ID_cdbd2c0db2</td>\n",
       "      <td>1</td>\n",
       "      <td>3</td>\n",
       "      <td>0</td>\n",
       "      <td>-0.159749</td>\n",
       "    </tr>\n",
       "    <tr>\n",
       "      <th>5</th>\n",
       "      <td>2016-09-01</td>\n",
       "      <td>C_ID_0894217f2f</td>\n",
       "      <td>4</td>\n",
       "      <td>2</td>\n",
       "      <td>0</td>\n",
       "      <td>0.871585</td>\n",
       "    </tr>\n",
       "    <tr>\n",
       "      <th>6</th>\n",
       "      <td>2016-12-01</td>\n",
       "      <td>C_ID_7e63323c00</td>\n",
       "      <td>3</td>\n",
       "      <td>2</td>\n",
       "      <td>1</td>\n",
       "      <td>0.230129</td>\n",
       "    </tr>\n",
       "    <tr>\n",
       "      <th>7</th>\n",
       "      <td>2017-09-01</td>\n",
       "      <td>C_ID_dfa21fc124</td>\n",
       "      <td>3</td>\n",
       "      <td>2</td>\n",
       "      <td>1</td>\n",
       "      <td>2.135850</td>\n",
       "    </tr>\n",
       "    <tr>\n",
       "      <th>8</th>\n",
       "      <td>2017-08-01</td>\n",
       "      <td>C_ID_fe0fdac8ea</td>\n",
       "      <td>2</td>\n",
       "      <td>1</td>\n",
       "      <td>0</td>\n",
       "      <td>-0.065406</td>\n",
       "    </tr>\n",
       "    <tr>\n",
       "      <th>9</th>\n",
       "      <td>2016-08-01</td>\n",
       "      <td>C_ID_bf62c0b49d</td>\n",
       "      <td>2</td>\n",
       "      <td>2</td>\n",
       "      <td>0</td>\n",
       "      <td>0.300062</td>\n",
       "    </tr>\n",
       "    <tr>\n",
       "      <th>10</th>\n",
       "      <td>2016-10-01</td>\n",
       "      <td>C_ID_92853cdb2c</td>\n",
       "      <td>5</td>\n",
       "      <td>2</td>\n",
       "      <td>1</td>\n",
       "      <td>-1.029562</td>\n",
       "    </tr>\n",
       "    <tr>\n",
       "      <th>11</th>\n",
       "      <td>2016-03-01</td>\n",
       "      <td>C_ID_269d816788</td>\n",
       "      <td>2</td>\n",
       "      <td>2</td>\n",
       "      <td>0</td>\n",
       "      <td>-2.433761</td>\n",
       "    </tr>\n",
       "    <tr>\n",
       "      <th>12</th>\n",
       "      <td>2017-09-01</td>\n",
       "      <td>C_ID_61d50d7057</td>\n",
       "      <td>5</td>\n",
       "      <td>2</td>\n",
       "      <td>1</td>\n",
       "      <td>1.304452</td>\n",
       "    </tr>\n",
       "    <tr>\n",
       "      <th>13</th>\n",
       "      <td>2017-04-01</td>\n",
       "      <td>C_ID_4e07413433</td>\n",
       "      <td>2</td>\n",
       "      <td>1</td>\n",
       "      <td>0</td>\n",
       "      <td>0.093633</td>\n",
       "    </tr>\n",
       "    <tr>\n",
       "      <th>14</th>\n",
       "      <td>2017-08-01</td>\n",
       "      <td>C_ID_b6302b31c6</td>\n",
       "      <td>3</td>\n",
       "      <td>2</td>\n",
       "      <td>1</td>\n",
       "      <td>1.597750</td>\n",
       "    </tr>\n",
       "    <tr>\n",
       "      <th>15</th>\n",
       "      <td>2017-02-01</td>\n",
       "      <td>C_ID_3b69154173</td>\n",
       "      <td>2</td>\n",
       "      <td>1</td>\n",
       "      <td>0</td>\n",
       "      <td>1.010937</td>\n",
       "    </tr>\n",
       "    <tr>\n",
       "      <th>16</th>\n",
       "      <td>2016-07-01</td>\n",
       "      <td>C_ID_9feec11e78</td>\n",
       "      <td>2</td>\n",
       "      <td>2</td>\n",
       "      <td>0</td>\n",
       "      <td>1.132236</td>\n",
       "    </tr>\n",
       "    <tr>\n",
       "      <th>17</th>\n",
       "      <td>2016-12-01</td>\n",
       "      <td>C_ID_f6658dbefe</td>\n",
       "      <td>4</td>\n",
       "      <td>2</td>\n",
       "      <td>0</td>\n",
       "      <td>0.318062</td>\n",
       "    </tr>\n",
       "    <tr>\n",
       "      <th>18</th>\n",
       "      <td>2017-11-01</td>\n",
       "      <td>C_ID_4a7dda0f9e</td>\n",
       "      <td>2</td>\n",
       "      <td>1</td>\n",
       "      <td>0</td>\n",
       "      <td>0.757280</td>\n",
       "    </tr>\n",
       "    <tr>\n",
       "      <th>19</th>\n",
       "      <td>2017-01-01</td>\n",
       "      <td>C_ID_6adae2a906</td>\n",
       "      <td>4</td>\n",
       "      <td>1</td>\n",
       "      <td>0</td>\n",
       "      <td>0.334337</td>\n",
       "    </tr>\n",
       "  </tbody>\n",
       "</table>\n",
       "</div>"
      ],
      "text/plain": [
       "   first_active_month          card_id  feature_1  feature_2  feature_3  \\\n",
       "0          2017-06-01  C_ID_92a2005557          5          2          1   \n",
       "1          2017-01-01  C_ID_3d0044924f          4          1          0   \n",
       "2          2016-08-01  C_ID_d639edf6cd          2          2          0   \n",
       "3          2017-09-01  C_ID_186d6a6901          4          3          0   \n",
       "4          2017-11-01  C_ID_cdbd2c0db2          1          3          0   \n",
       "5          2016-09-01  C_ID_0894217f2f          4          2          0   \n",
       "6          2016-12-01  C_ID_7e63323c00          3          2          1   \n",
       "7          2017-09-01  C_ID_dfa21fc124          3          2          1   \n",
       "8          2017-08-01  C_ID_fe0fdac8ea          2          1          0   \n",
       "9          2016-08-01  C_ID_bf62c0b49d          2          2          0   \n",
       "10         2016-10-01  C_ID_92853cdb2c          5          2          1   \n",
       "11         2016-03-01  C_ID_269d816788          2          2          0   \n",
       "12         2017-09-01  C_ID_61d50d7057          5          2          1   \n",
       "13         2017-04-01  C_ID_4e07413433          2          1          0   \n",
       "14         2017-08-01  C_ID_b6302b31c6          3          2          1   \n",
       "15         2017-02-01  C_ID_3b69154173          2          1          0   \n",
       "16         2016-07-01  C_ID_9feec11e78          2          2          0   \n",
       "17         2016-12-01  C_ID_f6658dbefe          4          2          0   \n",
       "18         2017-11-01  C_ID_4a7dda0f9e          2          1          0   \n",
       "19         2017-01-01  C_ID_6adae2a906          4          1          0   \n",
       "\n",
       "      target  \n",
       "0  -0.820283  \n",
       "1   0.392913  \n",
       "2   0.688056  \n",
       "3   0.142495  \n",
       "4  -0.159749  \n",
       "5   0.871585  \n",
       "6   0.230129  \n",
       "7   2.135850  \n",
       "8  -0.065406  \n",
       "9   0.300062  \n",
       "10 -1.029562  \n",
       "11 -2.433761  \n",
       "12  1.304452  \n",
       "13  0.093633  \n",
       "14  1.597750  \n",
       "15  1.010937  \n",
       "16  1.132236  \n",
       "17  0.318062  \n",
       "18  0.757280  \n",
       "19  0.334337  "
      ]
     },
     "execution_count": 6,
     "metadata": {},
     "output_type": "execute_result"
    }
   ],
   "source": [
    "df_train.head(N_ROWS)"
   ]
  },
  {
   "cell_type": "code",
   "execution_count": 7,
   "metadata": {},
   "outputs": [
    {
     "data": {
      "text/html": [
       "<div>\n",
       "<style scoped>\n",
       "    .dataframe tbody tr th:only-of-type {\n",
       "        vertical-align: middle;\n",
       "    }\n",
       "\n",
       "    .dataframe tbody tr th {\n",
       "        vertical-align: top;\n",
       "    }\n",
       "\n",
       "    .dataframe thead th {\n",
       "        text-align: right;\n",
       "    }\n",
       "</style>\n",
       "<table border=\"1\" class=\"dataframe\">\n",
       "  <thead>\n",
       "    <tr style=\"text-align: right;\">\n",
       "      <th></th>\n",
       "      <th>first_active_month</th>\n",
       "      <th>card_id</th>\n",
       "      <th>feature_1</th>\n",
       "      <th>feature_2</th>\n",
       "      <th>feature_3</th>\n",
       "    </tr>\n",
       "  </thead>\n",
       "  <tbody>\n",
       "    <tr>\n",
       "      <th>0</th>\n",
       "      <td>2017-04-01</td>\n",
       "      <td>C_ID_0ab67a22ab</td>\n",
       "      <td>3</td>\n",
       "      <td>3</td>\n",
       "      <td>1</td>\n",
       "    </tr>\n",
       "    <tr>\n",
       "      <th>1</th>\n",
       "      <td>2017-01-01</td>\n",
       "      <td>C_ID_130fd0cbdd</td>\n",
       "      <td>2</td>\n",
       "      <td>3</td>\n",
       "      <td>0</td>\n",
       "    </tr>\n",
       "    <tr>\n",
       "      <th>2</th>\n",
       "      <td>2017-08-01</td>\n",
       "      <td>C_ID_b709037bc5</td>\n",
       "      <td>5</td>\n",
       "      <td>1</td>\n",
       "      <td>1</td>\n",
       "    </tr>\n",
       "    <tr>\n",
       "      <th>3</th>\n",
       "      <td>2017-12-01</td>\n",
       "      <td>C_ID_d27d835a9f</td>\n",
       "      <td>2</td>\n",
       "      <td>1</td>\n",
       "      <td>0</td>\n",
       "    </tr>\n",
       "    <tr>\n",
       "      <th>4</th>\n",
       "      <td>2015-12-01</td>\n",
       "      <td>C_ID_2b5e3df5c2</td>\n",
       "      <td>5</td>\n",
       "      <td>1</td>\n",
       "      <td>1</td>\n",
       "    </tr>\n",
       "    <tr>\n",
       "      <th>5</th>\n",
       "      <td>2017-07-01</td>\n",
       "      <td>C_ID_5814b4f13c</td>\n",
       "      <td>5</td>\n",
       "      <td>1</td>\n",
       "      <td>1</td>\n",
       "    </tr>\n",
       "    <tr>\n",
       "      <th>6</th>\n",
       "      <td>2017-10-01</td>\n",
       "      <td>C_ID_a1b3c75277</td>\n",
       "      <td>1</td>\n",
       "      <td>2</td>\n",
       "      <td>0</td>\n",
       "    </tr>\n",
       "    <tr>\n",
       "      <th>7</th>\n",
       "      <td>2017-02-01</td>\n",
       "      <td>C_ID_f7cada36d3</td>\n",
       "      <td>3</td>\n",
       "      <td>1</td>\n",
       "      <td>1</td>\n",
       "    </tr>\n",
       "    <tr>\n",
       "      <th>8</th>\n",
       "      <td>2017-07-01</td>\n",
       "      <td>C_ID_9d2bc8dfc4</td>\n",
       "      <td>4</td>\n",
       "      <td>3</td>\n",
       "      <td>0</td>\n",
       "    </tr>\n",
       "    <tr>\n",
       "      <th>9</th>\n",
       "      <td>2016-03-01</td>\n",
       "      <td>C_ID_6d8dba8475</td>\n",
       "      <td>5</td>\n",
       "      <td>1</td>\n",
       "      <td>1</td>\n",
       "    </tr>\n",
       "    <tr>\n",
       "      <th>10</th>\n",
       "      <td>2017-03-01</td>\n",
       "      <td>C_ID_4859ac9ed5</td>\n",
       "      <td>5</td>\n",
       "      <td>2</td>\n",
       "      <td>1</td>\n",
       "    </tr>\n",
       "    <tr>\n",
       "      <th>11</th>\n",
       "      <td>2017-10-01</td>\n",
       "      <td>C_ID_0e281e8ad6</td>\n",
       "      <td>3</td>\n",
       "      <td>2</td>\n",
       "      <td>1</td>\n",
       "    </tr>\n",
       "    <tr>\n",
       "      <th>12</th>\n",
       "      <td>2016-04-01</td>\n",
       "      <td>C_ID_8375dfdaa2</td>\n",
       "      <td>2</td>\n",
       "      <td>2</td>\n",
       "      <td>0</td>\n",
       "    </tr>\n",
       "    <tr>\n",
       "      <th>13</th>\n",
       "      <td>2016-12-01</td>\n",
       "      <td>C_ID_79d149c008</td>\n",
       "      <td>4</td>\n",
       "      <td>1</td>\n",
       "      <td>0</td>\n",
       "    </tr>\n",
       "    <tr>\n",
       "      <th>14</th>\n",
       "      <td>2016-08-01</td>\n",
       "      <td>C_ID_7f1041e8e1</td>\n",
       "      <td>5</td>\n",
       "      <td>1</td>\n",
       "      <td>1</td>\n",
       "    </tr>\n",
       "    <tr>\n",
       "      <th>15</th>\n",
       "      <td>2017-11-01</td>\n",
       "      <td>C_ID_f72513589e</td>\n",
       "      <td>2</td>\n",
       "      <td>3</td>\n",
       "      <td>0</td>\n",
       "    </tr>\n",
       "    <tr>\n",
       "      <th>16</th>\n",
       "      <td>2017-12-01</td>\n",
       "      <td>C_ID_a7f2d6984e</td>\n",
       "      <td>4</td>\n",
       "      <td>2</td>\n",
       "      <td>0</td>\n",
       "    </tr>\n",
       "    <tr>\n",
       "      <th>17</th>\n",
       "      <td>2017-09-01</td>\n",
       "      <td>C_ID_15489b42d3</td>\n",
       "      <td>4</td>\n",
       "      <td>3</td>\n",
       "      <td>0</td>\n",
       "    </tr>\n",
       "    <tr>\n",
       "      <th>18</th>\n",
       "      <td>2017-11-01</td>\n",
       "      <td>C_ID_e457bbd71d</td>\n",
       "      <td>3</td>\n",
       "      <td>3</td>\n",
       "      <td>1</td>\n",
       "    </tr>\n",
       "    <tr>\n",
       "      <th>19</th>\n",
       "      <td>2017-01-01</td>\n",
       "      <td>C_ID_3f74e10c7e</td>\n",
       "      <td>2</td>\n",
       "      <td>1</td>\n",
       "      <td>0</td>\n",
       "    </tr>\n",
       "  </tbody>\n",
       "</table>\n",
       "</div>"
      ],
      "text/plain": [
       "   first_active_month          card_id  feature_1  feature_2  feature_3\n",
       "0          2017-04-01  C_ID_0ab67a22ab          3          3          1\n",
       "1          2017-01-01  C_ID_130fd0cbdd          2          3          0\n",
       "2          2017-08-01  C_ID_b709037bc5          5          1          1\n",
       "3          2017-12-01  C_ID_d27d835a9f          2          1          0\n",
       "4          2015-12-01  C_ID_2b5e3df5c2          5          1          1\n",
       "5          2017-07-01  C_ID_5814b4f13c          5          1          1\n",
       "6          2017-10-01  C_ID_a1b3c75277          1          2          0\n",
       "7          2017-02-01  C_ID_f7cada36d3          3          1          1\n",
       "8          2017-07-01  C_ID_9d2bc8dfc4          4          3          0\n",
       "9          2016-03-01  C_ID_6d8dba8475          5          1          1\n",
       "10         2017-03-01  C_ID_4859ac9ed5          5          2          1\n",
       "11         2017-10-01  C_ID_0e281e8ad6          3          2          1\n",
       "12         2016-04-01  C_ID_8375dfdaa2          2          2          0\n",
       "13         2016-12-01  C_ID_79d149c008          4          1          0\n",
       "14         2016-08-01  C_ID_7f1041e8e1          5          1          1\n",
       "15         2017-11-01  C_ID_f72513589e          2          3          0\n",
       "16         2017-12-01  C_ID_a7f2d6984e          4          2          0\n",
       "17         2017-09-01  C_ID_15489b42d3          4          3          0\n",
       "18         2017-11-01  C_ID_e457bbd71d          3          3          1\n",
       "19         2017-01-01  C_ID_3f74e10c7e          2          1          0"
      ]
     },
     "execution_count": 7,
     "metadata": {},
     "output_type": "execute_result"
    }
   ],
   "source": [
    "df_test.head(N_ROWS)"
   ]
  },
  {
   "cell_type": "markdown",
   "metadata": {},
   "source": [
    "* check nans"
   ]
  },
  {
   "cell_type": "code",
   "execution_count": 4,
   "metadata": {},
   "outputs": [
    {
     "name": "stdout",
     "output_type": "stream",
     "text": [
      "df_test nans: \n",
      "first_active_month    1\n",
      "card_id               0\n",
      "feature_1             0\n",
      "feature_2             0\n",
      "feature_3             0\n",
      "dtype: int64\n",
      "\n",
      "df_train nans: \n",
      "first_active_month    0\n",
      "card_id               0\n",
      "feature_1             0\n",
      "feature_2             0\n",
      "feature_3             0\n",
      "target                0\n",
      "dtype: int64\n",
      "\n"
     ]
    }
   ],
   "source": [
    "# check nans\n",
    "print(f'df_test nans: \\n{nans(df_test)}\\n')\n",
    "print(f'df_train nans: \\n{nans(df_train)}\\n')\n",
    "\n",
    "df_test_copy = df_test.copy()"
   ]
  },
  {
   "cell_type": "markdown",
   "metadata": {},
   "source": [
    "Before we go on to next section. lets check if there is abnormal distribution in train dataset."
   ]
  },
  {
   "cell_type": "code",
   "execution_count": 5,
   "metadata": {},
   "outputs": [
    {
     "name": "stdout",
     "output_type": "stream",
     "text": [
      "unexpected value: 2207\n"
     ]
    },
    {
     "data": {
      "image/png": "[encoded data removed]",
      "text/plain": [
       "<Figure size 432x288 with 1 Axes>"
      ]
     },
     "metadata": {
      "needs_background": "light"
     },
     "output_type": "display_data"
    }
   ],
   "source": [
    "sns.histplot(df_train['target'], kde=True).set(title=\"HistPlot of Train Target\")\n",
    "unexpected = (df_train['target'] < -30).sum()\n",
    "print(f'unexpected value: {unexpected}')"
   ]
  },
  {
   "cell_type": "markdown",
   "metadata": {},
   "source": [
    "Clearly there exists some unexpected values when target < -30.\n",
    "\n",
    "\n",
    "One more thing to notice is the distributiton is symmetric to 0. "
   ]
  },
  {
   "cell_type": "code",
   "execution_count": 6,
   "metadata": {},
   "outputs": [
    {
     "data": {
      "text/plain": [
       "[Text(0.5, 1.0, 'HistPlot of Train Target')]"
      ]
     },
     "execution_count": 6,
     "metadata": {},
     "output_type": "execute_result"
    },
    {
     "data": {
      "image/png": "[encoded data removed]",
      "text/plain": [
       "<Figure size 432x288 with 1 Axes>"
      ]
     },
     "metadata": {
      "needs_background": "light"
     },
     "output_type": "display_data"
    }
   ],
   "source": [
    "df_train_copy = df_train[df_train['target'] > -30]\n",
    "sns.histplot(df_train_copy['target'], kde=True).set(title=\"HistPlot of Train Target\")"
   ]
  },
  {
   "cell_type": "markdown",
   "metadata": {},
   "source": [
    "then we check if the id is unique, this procedure is important as we might need to outer join other datasets with id. "
   ]
  },
  {
   "cell_type": "code",
   "execution_count": 7,
   "metadata": {},
   "outputs": [
    {
     "name": "stdout",
     "output_type": "stream",
     "text": [
      "True\n",
      "True\n"
     ]
    }
   ],
   "source": [
    "train_count = df_train_copy.shape[0]\n",
    "test_count = df_test_copy.shape[0]\n",
    "print(df_train_copy['card_id'].nunique() == train_count)\n",
    "print(df_test_copy['card_id'].nunique() == test_count)"
   ]
  },
  {
   "cell_type": "code",
   "execution_count": 8,
   "metadata": {},
   "outputs": [
    {
     "name": "stdout",
     "output_type": "stream",
     "text": [
      "<class 'pandas.core.frame.DataFrame'>\n",
      "Int64Index: 199710 entries, 0 to 201916\n",
      "Data columns (total 6 columns):\n",
      " #   Column              Non-Null Count   Dtype  \n",
      "---  ------              --------------   -----  \n",
      " 0   first_active_month  199710 non-null  object \n",
      " 1   card_id             199710 non-null  object \n",
      " 2   feature_1           199710 non-null  int64  \n",
      " 3   feature_2           199710 non-null  int64  \n",
      " 4   feature_3           199710 non-null  int64  \n",
      " 5   target              199710 non-null  float64\n",
      "dtypes: float64(1), int64(3), object(2)\n",
      "memory usage: 10.7+ MB\n"
     ]
    }
   ],
   "source": [
    "df_train_copy.info()"
   ]
  },
  {
   "cell_type": "markdown",
   "metadata": {},
   "source": [
    "Now we have to convert obejct to numeric values, as we seen above, there are two object values, since the card_id is a foreign key bound to match more features in other dataset, we'll leave it intact. "
   ]
  },
  {
   "cell_type": "code",
   "execution_count": 9,
   "metadata": {},
   "outputs": [],
   "source": [
    "\n",
    "features = ['first_active_month']\n",
    "df_temps = reformat_dataframe(df_test_copy.append(df_train_copy), features, change_object_col)\n",
    "df_test_copy, df_train_copy = to_tuple(split_with_index(df_temps, test_count))\n",
    "del df_temps"
   ]
  },
  {
   "cell_type": "markdown",
   "metadata": {
    "collapsed": false,
    "pycharm": {
     "name": "#%% md\n"
    }
   },
   "source": [
    "After change the columns we would like to see if the train and test features are evenly splitted."
   ]
  },
  {
   "cell_type": "code",
   "execution_count": 10,
   "metadata": {},
   "outputs": [
    {
     "data": {
      "image/png": "[encoded data removed]",
      "text/plain": [
       "<Figure size 432x288 with 1 Axes>"
      ]
     },
     "metadata": {
      "needs_background": "light"
     },
     "output_type": "display_data"
    },
    {
     "data": {
      "image/png": "[encoded data removed]",
      "text/plain": [
       "<Figure size 432x288 with 1 Axes>"
      ]
     },
     "metadata": {
      "needs_background": "light"
     },
     "output_type": "display_data"
    },
    {
     "data": {
      "image/png": "[encoded data removed]",
      "text/plain": [
       "<Figure size 432x288 with 1 Axes>"
      ]
     },
     "metadata": {
      "needs_background": "light"
     },
     "output_type": "display_data"
    },
    {
     "data": {
      "image/png": "[encoded data removed]",
      "text/plain": [
       "<Figure size 432x288 with 1 Axes>"
      ]
     },
     "metadata": {
      "needs_background": "light"
     },
     "output_type": "display_data"
    }
   ],
   "source": [
    "features = ['first_active_month', 'feature_1', 'feature_2', 'feature_3']\n",
    "for feature in features:\n",
    "    (df_train_copy[feature].value_counts().sort_index() / train_count).plot()\n",
    "    (df_test_copy[feature].value_counts().sort_index() / test_count).plot()\n",
    "    plt.legend(['train', 'test'])\n",
    "    plt.xlabel(feature)\n",
    "    plt.ylabel('ratio')\n",
    "    plt.show()"
   ]
  },
  {
   "cell_type": "markdown",
   "metadata": {},
   "source": [
    "Now we need to standarize the features, since not every model need standarized data, we will just leave the builder here uncollected.  "
   ]
  },
  {
   "cell_type": "code",
   "execution_count": 11,
   "metadata": {},
   "outputs": [],
   "source": [
    "builder = StreamerBuilder.build([df_test_copy, df_train_copy]) \\\n",
    "    .map(lambda df: reformat_dataframe(df, features, standarize_col))"
   ]
  },
  {
   "cell_type": "markdown",
   "metadata": {},
   "source": [
    "Last step is to write the result back, and fetch when we needed."
   ]
  },
  {
   "cell_type": "code",
   "execution_count": 12,
   "metadata": {},
   "outputs": [],
   "source": [
    "df_test_copy.to_csv(os.path.join(OUT_DIR, 'test_pre.csv'), index=False)\n",
    "df_train_copy.to_csv(os.path.join(OUT_DIR, 'train_pre.csv'), index=False)\n",
    "\n",
    "del df_test, df_test_copy, df_train, df_train_copy, features, test_count, train_count, unexpected\n"
   ]
  },
  {
   "cell_type": "markdown",
   "metadata": {},
   "source": [
    "# Merchant Data purge\n",
    "\n",
    "Now we will hava a look at merchants.csv"
   ]
  },
  {
   "cell_type": "code",
   "execution_count": 13,
   "metadata": {},
   "outputs": [
    {
     "name": "stdout",
     "output_type": "stream",
     "text": [
      "<class 'pandas.core.frame.DataFrame'>\n",
      "RangeIndex: 334696 entries, 0 to 334695\n",
      "Data columns (total 22 columns):\n",
      " #   Column                       Non-Null Count   Dtype  \n",
      "---  ------                       --------------   -----  \n",
      " 0   merchant_id                  334696 non-null  object \n",
      " 1   merchant_group_id            334696 non-null  int64  \n",
      " 2   merchant_category_id         334696 non-null  int64  \n",
      " 3   subsector_id                 334696 non-null  int64  \n",
      " 4   numerical_1                  334696 non-null  float64\n",
      " 5   numerical_2                  334696 non-null  float64\n",
      " 6   category_1                   334696 non-null  object \n",
      " 7   most_recent_sales_range      334696 non-null  object \n",
      " 8   most_recent_purchases_range  334696 non-null  object \n",
      " 9   avg_sales_lag3               334683 non-null  float64\n",
      " 10  avg_purchases_lag3           334696 non-null  float64\n",
      " 11  active_months_lag3           334696 non-null  int64  \n",
      " 12  avg_sales_lag6               334683 non-null  float64\n",
      " 13  avg_purchases_lag6           334696 non-null  float64\n",
      " 14  active_months_lag6           334696 non-null  int64  \n",
      " 15  avg_sales_lag12              334683 non-null  float64\n",
      " 16  avg_purchases_lag12          334696 non-null  float64\n",
      " 17  active_months_lag12          334696 non-null  int64  \n",
      " 18  category_4                   334696 non-null  object \n",
      " 19  city_id                      334696 non-null  int64  \n",
      " 20  state_id                     334696 non-null  int64  \n",
      " 21  category_2                   322809 non-null  float64\n",
      "dtypes: float64(9), int64(8), object(5)\n",
      "memory usage: 56.2+ MB\n"
     ]
    }
   ],
   "source": [
    "df_merchant = pd.read_csv(os.path.join(DATA_DIR, 'merchants.csv'), header=0)\n",
    "df_merchant.info()"
   ]
  },
  {
   "cell_type": "code",
   "execution_count": 14,
   "metadata": {},
   "outputs": [
    {
     "name": "stdout",
     "output_type": "stream",
     "text": [
      "334696 334633\n"
     ]
    },
    {
     "data": {
      "text/plain": [
       "merchant_id                        0\n",
       "merchant_group_id                  0\n",
       "merchant_category_id               0\n",
       "subsector_id                       0\n",
       "numerical_1                        0\n",
       "numerical_2                        0\n",
       "category_1                         0\n",
       "most_recent_sales_range            0\n",
       "most_recent_purchases_range        0\n",
       "avg_sales_lag3                    13\n",
       "avg_purchases_lag3                 0\n",
       "active_months_lag3                 0\n",
       "avg_sales_lag6                    13\n",
       "avg_purchases_lag6                 0\n",
       "active_months_lag6                 0\n",
       "avg_sales_lag12                   13\n",
       "avg_purchases_lag12                0\n",
       "active_months_lag12                0\n",
       "category_4                         0\n",
       "city_id                            0\n",
       "state_id                           0\n",
       "category_2                     11887\n",
       "dtype: int64"
      ]
     },
     "execution_count": 14,
     "metadata": {},
     "output_type": "execute_result"
    }
   ],
   "source": [
    "print (df_merchant.shape[0], df_merchant['merchant_id'].nunique())\n",
    "nans(df_merchant)\n"
   ]
  },
  {
   "cell_type": "markdown",
   "metadata": {},
   "source": [
    "Obviously, there exists some merchant whose id appears multiple times in this dataset. In catagory_2 lacks a significant amount of datas. We will check the unique value from category 4 to see if it is possible to repace nans to 0"
   ]
  },
  {
   "cell_type": "markdown",
   "metadata": {},
   "source": [
    "We will change the object columns to numerical ones."
   ]
  },
  {
   "cell_type": "code",
   "execution_count": 15,
   "metadata": {},
   "outputs": [],
   "source": [
    "\n",
    "\n",
    "merchants_category_cols = ['merchant_id', 'merchant_group_id', 'merchant_category_id',\n",
    "                 'subsector_id', 'category_1', 'most_recent_sales_range', 'most_recent_purchases_range', 'city_id', 'state_id', 'category_4', 'category_2']\n",
    "\n",
    "merchants_numeric_cols = ['numerical_1', 'numerical_2', 'avg_sales_lag3', 'avg_purchases_lag3', 'active_months_lag3', 'avg_sales_lag6', 'avg_purchases_lag6', 'active_months_lag6',\n",
    "                'avg_sales_lag12', 'avg_purchases_lag12', 'active_months_lag12']\n",
    "\n",
    "assert len(merchants_numeric_cols) + len(merchants_category_cols) == len(df_merchant.columns)"
   ]
  },
  {
   "cell_type": "markdown",
   "metadata": {},
   "source": [
    "check category columns unique values"
   ]
  },
  {
   "cell_type": "code",
   "execution_count": 16,
   "metadata": {},
   "outputs": [
    {
     "name": "stdout",
     "output_type": "stream",
     "text": [
      "            merchant_id  merchant_group_id  merchant_category_id  \\\n",
      "3       M_ID_a70e9c5f81               5026                   792   \n",
      "4       M_ID_64456c37ce               2228                   222   \n",
      "7       M_ID_d8ff08219e              16430                   529   \n",
      "9       M_ID_d2162ed113             112122                    81   \n",
      "11      M_ID_73487fed26              17123                   427   \n",
      "...                 ...                ...                   ...   \n",
      "334686  M_ID_3111c6df35             107283                   690   \n",
      "334688  M_ID_59764e8cb1              17285                   309   \n",
      "334690  M_ID_a9d91682ad                 35                   241   \n",
      "334692  M_ID_725a60d404                 35                   544   \n",
      "334694  M_ID_9139332ccc                 35                   511   \n",
      "\n",
      "        subsector_id  numerical_1  numerical_2  category_1  \\\n",
      "3                  9    -0.057471    -0.057471           1   \n",
      "4                 21    -0.057471    -0.057471           1   \n",
      "7                 20    -0.057471    -0.057471           1   \n",
      "9                 29    -0.057471    -0.057471           1   \n",
      "11                27    -0.057471    -0.057471           1   \n",
      "...              ...          ...          ...         ...   \n",
      "334686             1    -0.057471    -0.057471           1   \n",
      "334688            21     0.329211    -0.057471           1   \n",
      "334690            17    -0.057471    -0.057471           1   \n",
      "334692            29    -0.057471    -0.057471           1   \n",
      "334694             7    -0.057471    -0.057471           1   \n",
      "\n",
      "        most_recent_sales_range  most_recent_purchases_range  avg_sales_lag3  \\\n",
      "3                             4                            4             NaN   \n",
      "4                             4                            4             NaN   \n",
      "7                             4                            4             NaN   \n",
      "9                             4                            4             NaN   \n",
      "11                            4                            4             NaN   \n",
      "...                         ...                          ...             ...   \n",
      "334686                        0                            0            0.95   \n",
      "334688                        0                            0            0.97   \n",
      "334690                        0                            0            0.96   \n",
      "334692                        0                            0            0.89   \n",
      "334694                        0                            0            0.94   \n",
      "\n",
      "        ...  avg_sales_lag6  avg_purchases_lag6  active_months_lag6  \\\n",
      "3       ...             NaN            4.666667                   6   \n",
      "4       ...             NaN            0.361111                   6   \n",
      "7       ...             NaN            1.666667                   6   \n",
      "9       ...             NaN            1.000000                   2   \n",
      "11      ...             NaN                 inf                   6   \n",
      "...     ...             ...                 ...                 ...   \n",
      "334686  ...            0.90            0.967786                   6   \n",
      "334688  ...            1.00            1.107380                   6   \n",
      "334690  ...            0.85            0.919159                   6   \n",
      "334692  ...            0.78            0.813473                   6   \n",
      "334694  ...            0.82            0.783000                   6   \n",
      "\n",
      "        avg_sales_lag12  avg_purchases_lag12  active_months_lag12  category_4  \\\n",
      "3                   NaN             3.833333                   12           1   \n",
      "4                   NaN             0.347222                   12           1   \n",
      "7                   NaN             1.500000                   11           1   \n",
      "9                   NaN             1.000000                    2           1   \n",
      "11                  NaN                  inf                   12           1   \n",
      "...                 ...                  ...                  ...         ...   \n",
      "334686             0.79             0.891154                   12           1   \n",
      "334688             1.05             1.120891                   12           1   \n",
      "334690             0.90             0.982781                   12           1   \n",
      "334692             0.59             0.606765                   12           1   \n",
      "334694             0.65             0.584000                   12           1   \n",
      "\n",
      "        city_id  state_id  category_2  \n",
      "3            -1        -1        -1.0  \n",
      "4            -1        -1        -1.0  \n",
      "7            -1        -1        -1.0  \n",
      "9            -1        -1        -1.0  \n",
      "11           -1        -1        -1.0  \n",
      "...         ...       ...         ...  \n",
      "334686       -1        -1        -1.0  \n",
      "334688       -1        -1        -1.0  \n",
      "334690       -1        -1        -1.0  \n",
      "334692       -1        -1        -1.0  \n",
      "334694       -1        -1        -1.0  \n",
      "\n",
      "[11887 rows x 22 columns]\n"
     ]
    }
   ],
   "source": [
    "df_merchant[merchants_category_cols].nunique()\n",
    "df_merchant[merchants_category_cols].dtypes\n",
    "df_merchant['category_2'] .unique()\n",
    "df_merchant['category_2'].fillna(-1, inplace=True)\n",
    "cols = ['category_1', 'most_recent_sales_range', 'most_recent_purchases_range', 'category_4']\n",
    "df_merchant = reformat_dataframe(df_merchant, cols, change_object_col)\n",
    "print(df_merchant[df_merchant['category_2'] == -1])"
   ]
  },
  {
   "cell_type": "code",
   "execution_count": 17,
   "metadata": {},
   "outputs": [
    {
     "data": {
      "text/html": [
       "<div>\n",
       "<style scoped>\n",
       "    .dataframe tbody tr th:only-of-type {\n",
       "        vertical-align: middle;\n",
       "    }\n",
       "\n",
       "    .dataframe tbody tr th {\n",
       "        vertical-align: top;\n",
       "    }\n",
       "\n",
       "    .dataframe thead th {\n",
       "        text-align: right;\n",
       "    }\n",
       "</style>\n",
       "<table border=\"1\" class=\"dataframe\">\n",
       "  <thead>\n",
       "    <tr style=\"text-align: right;\">\n",
       "      <th></th>\n",
       "      <th>merchant_group_id</th>\n",
       "      <th>merchant_category_id</th>\n",
       "      <th>subsector_id</th>\n",
       "      <th>numerical_1</th>\n",
       "      <th>numerical_2</th>\n",
       "      <th>category_1</th>\n",
       "      <th>most_recent_sales_range</th>\n",
       "      <th>most_recent_purchases_range</th>\n",
       "      <th>avg_sales_lag3</th>\n",
       "      <th>avg_purchases_lag3</th>\n",
       "      <th>...</th>\n",
       "      <th>avg_sales_lag6</th>\n",
       "      <th>avg_purchases_lag6</th>\n",
       "      <th>active_months_lag6</th>\n",
       "      <th>avg_sales_lag12</th>\n",
       "      <th>avg_purchases_lag12</th>\n",
       "      <th>active_months_lag12</th>\n",
       "      <th>category_4</th>\n",
       "      <th>city_id</th>\n",
       "      <th>state_id</th>\n",
       "      <th>category_2</th>\n",
       "    </tr>\n",
       "  </thead>\n",
       "  <tbody>\n",
       "    <tr>\n",
       "      <th>count</th>\n",
       "      <td>334696.000000</td>\n",
       "      <td>334696.000000</td>\n",
       "      <td>334696.000000</td>\n",
       "      <td>334696.000000</td>\n",
       "      <td>334696.000000</td>\n",
       "      <td>334696.000000</td>\n",
       "      <td>334696.000000</td>\n",
       "      <td>334696.000000</td>\n",
       "      <td>334683.000000</td>\n",
       "      <td>3.346960e+05</td>\n",
       "      <td>...</td>\n",
       "      <td>3.346830e+05</td>\n",
       "      <td>3.346960e+05</td>\n",
       "      <td>334696.000000</td>\n",
       "      <td>3.346830e+05</td>\n",
       "      <td>3.346960e+05</td>\n",
       "      <td>334696.000000</td>\n",
       "      <td>334696.000000</td>\n",
       "      <td>334696.000000</td>\n",
       "      <td>334696.000000</td>\n",
       "      <td>334696.000000</td>\n",
       "    </tr>\n",
       "    <tr>\n",
       "      <th>mean</th>\n",
       "      <td>31028.736143</td>\n",
       "      <td>423.131663</td>\n",
       "      <td>25.116404</td>\n",
       "      <td>0.011476</td>\n",
       "      <td>0.008103</td>\n",
       "      <td>0.021031</td>\n",
       "      <td>3.388233</td>\n",
       "      <td>3.382565</td>\n",
       "      <td>13.832993</td>\n",
       "      <td>inf</td>\n",
       "      <td>...</td>\n",
       "      <td>2.165079e+01</td>\n",
       "      <td>inf</td>\n",
       "      <td>5.947397</td>\n",
       "      <td>2.522771e+01</td>\n",
       "      <td>inf</td>\n",
       "      <td>11.599335</td>\n",
       "      <td>0.287126</td>\n",
       "      <td>102.917926</td>\n",
       "      <td>11.860942</td>\n",
       "      <td>2.259958</td>\n",
       "    </tr>\n",
       "    <tr>\n",
       "      <th>std</th>\n",
       "      <td>31623.043426</td>\n",
       "      <td>252.898046</td>\n",
       "      <td>9.807371</td>\n",
       "      <td>1.098154</td>\n",
       "      <td>1.070497</td>\n",
       "      <td>0.143488</td>\n",
       "      <td>0.753297</td>\n",
       "      <td>0.752935</td>\n",
       "      <td>2395.489999</td>\n",
       "      <td>NaN</td>\n",
       "      <td>...</td>\n",
       "      <td>3.947108e+03</td>\n",
       "      <td>NaN</td>\n",
       "      <td>0.394936</td>\n",
       "      <td>5.251842e+03</td>\n",
       "      <td>NaN</td>\n",
       "      <td>1.520138</td>\n",
       "      <td>0.452422</td>\n",
       "      <td>107.090673</td>\n",
       "      <td>6.176889</td>\n",
       "      <td>1.657263</td>\n",
       "    </tr>\n",
       "    <tr>\n",
       "      <th>min</th>\n",
       "      <td>1.000000</td>\n",
       "      <td>-1.000000</td>\n",
       "      <td>-1.000000</td>\n",
       "      <td>-0.057471</td>\n",
       "      <td>-0.057471</td>\n",
       "      <td>0.000000</td>\n",
       "      <td>0.000000</td>\n",
       "      <td>0.000000</td>\n",
       "      <td>-82.130000</td>\n",
       "      <td>3.334953e-01</td>\n",
       "      <td>...</td>\n",
       "      <td>-8.213000e+01</td>\n",
       "      <td>1.670447e-01</td>\n",
       "      <td>1.000000</td>\n",
       "      <td>-8.213000e+01</td>\n",
       "      <td>9.832954e-02</td>\n",
       "      <td>1.000000</td>\n",
       "      <td>0.000000</td>\n",
       "      <td>-1.000000</td>\n",
       "      <td>-1.000000</td>\n",
       "      <td>-1.000000</td>\n",
       "    </tr>\n",
       "    <tr>\n",
       "      <th>25%</th>\n",
       "      <td>3612.000000</td>\n",
       "      <td>222.000000</td>\n",
       "      <td>19.000000</td>\n",
       "      <td>-0.057471</td>\n",
       "      <td>-0.057471</td>\n",
       "      <td>0.000000</td>\n",
       "      <td>3.000000</td>\n",
       "      <td>3.000000</td>\n",
       "      <td>0.880000</td>\n",
       "      <td>9.236499e-01</td>\n",
       "      <td>...</td>\n",
       "      <td>8.500000e-01</td>\n",
       "      <td>9.022475e-01</td>\n",
       "      <td>6.000000</td>\n",
       "      <td>8.500000e-01</td>\n",
       "      <td>8.983333e-01</td>\n",
       "      <td>12.000000</td>\n",
       "      <td>0.000000</td>\n",
       "      <td>-1.000000</td>\n",
       "      <td>9.000000</td>\n",
       "      <td>1.000000</td>\n",
       "    </tr>\n",
       "    <tr>\n",
       "      <th>50%</th>\n",
       "      <td>19900.000000</td>\n",
       "      <td>373.000000</td>\n",
       "      <td>27.000000</td>\n",
       "      <td>-0.057471</td>\n",
       "      <td>-0.057471</td>\n",
       "      <td>0.000000</td>\n",
       "      <td>4.000000</td>\n",
       "      <td>4.000000</td>\n",
       "      <td>1.000000</td>\n",
       "      <td>1.016667e+00</td>\n",
       "      <td>...</td>\n",
       "      <td>1.010000e+00</td>\n",
       "      <td>1.026961e+00</td>\n",
       "      <td>6.000000</td>\n",
       "      <td>1.020000e+00</td>\n",
       "      <td>1.043361e+00</td>\n",
       "      <td>12.000000</td>\n",
       "      <td>0.000000</td>\n",
       "      <td>69.000000</td>\n",
       "      <td>9.000000</td>\n",
       "      <td>1.000000</td>\n",
       "    </tr>\n",
       "    <tr>\n",
       "      <th>75%</th>\n",
       "      <td>51707.250000</td>\n",
       "      <td>683.000000</td>\n",
       "      <td>33.000000</td>\n",
       "      <td>-0.047556</td>\n",
       "      <td>-0.047556</td>\n",
       "      <td>0.000000</td>\n",
       "      <td>4.000000</td>\n",
       "      <td>4.000000</td>\n",
       "      <td>1.160000</td>\n",
       "      <td>1.146522e+00</td>\n",
       "      <td>...</td>\n",
       "      <td>1.230000e+00</td>\n",
       "      <td>1.215575e+00</td>\n",
       "      <td>6.000000</td>\n",
       "      <td>1.290000e+00</td>\n",
       "      <td>1.266480e+00</td>\n",
       "      <td>12.000000</td>\n",
       "      <td>1.000000</td>\n",
       "      <td>182.000000</td>\n",
       "      <td>16.000000</td>\n",
       "      <td>4.000000</td>\n",
       "    </tr>\n",
       "    <tr>\n",
       "      <th>max</th>\n",
       "      <td>112586.000000</td>\n",
       "      <td>891.000000</td>\n",
       "      <td>41.000000</td>\n",
       "      <td>183.735111</td>\n",
       "      <td>182.079322</td>\n",
       "      <td>1.000000</td>\n",
       "      <td>4.000000</td>\n",
       "      <td>4.000000</td>\n",
       "      <td>851844.640000</td>\n",
       "      <td>inf</td>\n",
       "      <td>...</td>\n",
       "      <td>1.513959e+06</td>\n",
       "      <td>inf</td>\n",
       "      <td>6.000000</td>\n",
       "      <td>2.567408e+06</td>\n",
       "      <td>inf</td>\n",
       "      <td>12.000000</td>\n",
       "      <td>1.000000</td>\n",
       "      <td>347.000000</td>\n",
       "      <td>24.000000</td>\n",
       "      <td>5.000000</td>\n",
       "    </tr>\n",
       "  </tbody>\n",
       "</table>\n",
       "<p>8 rows × 21 columns</p>\n",
       "</div>"
      ],
      "text/plain": [
       "       merchant_group_id  merchant_category_id   subsector_id    numerical_1  \\\n",
       "count      334696.000000         334696.000000  334696.000000  334696.000000   \n",
       "mean        31028.736143            423.131663      25.116404       0.011476   \n",
       "std         31623.043426            252.898046       9.807371       1.098154   \n",
       "min             1.000000             -1.000000      -1.000000      -0.057471   \n",
       "25%          3612.000000            222.000000      19.000000      -0.057471   \n",
       "50%         19900.000000            373.000000      27.000000      -0.057471   \n",
       "75%         51707.250000            683.000000      33.000000      -0.047556   \n",
       "max        112586.000000            891.000000      41.000000     183.735111   \n",
       "\n",
       "         numerical_2     category_1  most_recent_sales_range  \\\n",
       "count  334696.000000  334696.000000            334696.000000   \n",
       "mean        0.008103       0.021031                 3.388233   \n",
       "std         1.070497       0.143488                 0.753297   \n",
       "min        -0.057471       0.000000                 0.000000   \n",
       "25%        -0.057471       0.000000                 3.000000   \n",
       "50%        -0.057471       0.000000                 4.000000   \n",
       "75%        -0.047556       0.000000                 4.000000   \n",
       "max       182.079322       1.000000                 4.000000   \n",
       "\n",
       "       most_recent_purchases_range  avg_sales_lag3  avg_purchases_lag3  ...  \\\n",
       "count                334696.000000   334683.000000        3.346960e+05  ...   \n",
       "mean                      3.382565       13.832993                 inf  ...   \n",
       "std                       0.752935     2395.489999                 NaN  ...   \n",
       "min                       0.000000      -82.130000        3.334953e-01  ...   \n",
       "25%                       3.000000        0.880000        9.236499e-01  ...   \n",
       "50%                       4.000000        1.000000        1.016667e+00  ...   \n",
       "75%                       4.000000        1.160000        1.146522e+00  ...   \n",
       "max                       4.000000   851844.640000                 inf  ...   \n",
       "\n",
       "       avg_sales_lag6  avg_purchases_lag6  active_months_lag6  \\\n",
       "count    3.346830e+05        3.346960e+05       334696.000000   \n",
       "mean     2.165079e+01                 inf            5.947397   \n",
       "std      3.947108e+03                 NaN            0.394936   \n",
       "min     -8.213000e+01        1.670447e-01            1.000000   \n",
       "25%      8.500000e-01        9.022475e-01            6.000000   \n",
       "50%      1.010000e+00        1.026961e+00            6.000000   \n",
       "75%      1.230000e+00        1.215575e+00            6.000000   \n",
       "max      1.513959e+06                 inf            6.000000   \n",
       "\n",
       "       avg_sales_lag12  avg_purchases_lag12  active_months_lag12  \\\n",
       "count     3.346830e+05         3.346960e+05        334696.000000   \n",
       "mean      2.522771e+01                  inf            11.599335   \n",
       "std       5.251842e+03                  NaN             1.520138   \n",
       "min      -8.213000e+01         9.832954e-02             1.000000   \n",
       "25%       8.500000e-01         8.983333e-01            12.000000   \n",
       "50%       1.020000e+00         1.043361e+00            12.000000   \n",
       "75%       1.290000e+00         1.266480e+00            12.000000   \n",
       "max       2.567408e+06                  inf            12.000000   \n",
       "\n",
       "          category_4        city_id       state_id     category_2  \n",
       "count  334696.000000  334696.000000  334696.000000  334696.000000  \n",
       "mean        0.287126     102.917926      11.860942       2.259958  \n",
       "std         0.452422     107.090673       6.176889       1.657263  \n",
       "min         0.000000      -1.000000      -1.000000      -1.000000  \n",
       "25%         0.000000      -1.000000       9.000000       1.000000  \n",
       "50%         0.000000      69.000000       9.000000       1.000000  \n",
       "75%         1.000000     182.000000      16.000000       4.000000  \n",
       "max         1.000000     347.000000      24.000000       5.000000  \n",
       "\n",
       "[8 rows x 21 columns]"
      ]
     },
     "execution_count": 17,
     "metadata": {},
     "output_type": "execute_result"
    }
   ],
   "source": [
    "df_merchant[merchants_numeric_cols].dtypes\n",
    "nans(df_merchant)\n",
    "df_merchant.describe()"
   ]
  },
  {
   "cell_type": "code",
   "execution_count": 18,
   "metadata": {},
   "outputs": [
    {
     "data": {
      "text/html": [
       "<div>\n",
       "<style scoped>\n",
       "    .dataframe tbody tr th:only-of-type {\n",
       "        vertical-align: middle;\n",
       "    }\n",
       "\n",
       "    .dataframe tbody tr th {\n",
       "        vertical-align: top;\n",
       "    }\n",
       "\n",
       "    .dataframe thead th {\n",
       "        text-align: right;\n",
       "    }\n",
       "</style>\n",
       "<table border=\"1\" class=\"dataframe\">\n",
       "  <thead>\n",
       "    <tr style=\"text-align: right;\">\n",
       "      <th></th>\n",
       "      <th>merchant_group_id</th>\n",
       "      <th>merchant_category_id</th>\n",
       "      <th>subsector_id</th>\n",
       "      <th>numerical_1</th>\n",
       "      <th>numerical_2</th>\n",
       "      <th>category_1</th>\n",
       "      <th>most_recent_sales_range</th>\n",
       "      <th>most_recent_purchases_range</th>\n",
       "      <th>avg_sales_lag3</th>\n",
       "      <th>avg_purchases_lag3</th>\n",
       "      <th>...</th>\n",
       "      <th>avg_sales_lag6</th>\n",
       "      <th>avg_purchases_lag6</th>\n",
       "      <th>active_months_lag6</th>\n",
       "      <th>avg_sales_lag12</th>\n",
       "      <th>avg_purchases_lag12</th>\n",
       "      <th>active_months_lag12</th>\n",
       "      <th>category_4</th>\n",
       "      <th>city_id</th>\n",
       "      <th>state_id</th>\n",
       "      <th>category_2</th>\n",
       "    </tr>\n",
       "  </thead>\n",
       "  <tbody>\n",
       "    <tr>\n",
       "      <th>count</th>\n",
       "      <td>334696.000000</td>\n",
       "      <td>334696.000000</td>\n",
       "      <td>334696.000000</td>\n",
       "      <td>334696.000000</td>\n",
       "      <td>334696.000000</td>\n",
       "      <td>334696.000000</td>\n",
       "      <td>334696.000000</td>\n",
       "      <td>334696.000000</td>\n",
       "      <td>334683.000000</td>\n",
       "      <td>334696.000000</td>\n",
       "      <td>...</td>\n",
       "      <td>3.346830e+05</td>\n",
       "      <td>334696.000000</td>\n",
       "      <td>334696.000000</td>\n",
       "      <td>3.346830e+05</td>\n",
       "      <td>334696.000000</td>\n",
       "      <td>334696.000000</td>\n",
       "      <td>334696.000000</td>\n",
       "      <td>334696.000000</td>\n",
       "      <td>334696.000000</td>\n",
       "      <td>334696.000000</td>\n",
       "    </tr>\n",
       "    <tr>\n",
       "      <th>mean</th>\n",
       "      <td>31028.736143</td>\n",
       "      <td>423.131663</td>\n",
       "      <td>25.116404</td>\n",
       "      <td>0.011476</td>\n",
       "      <td>0.008103</td>\n",
       "      <td>0.021031</td>\n",
       "      <td>3.388233</td>\n",
       "      <td>3.382565</td>\n",
       "      <td>13.832993</td>\n",
       "      <td>2.145143</td>\n",
       "      <td>...</td>\n",
       "      <td>2.165079e+01</td>\n",
       "      <td>2.390194</td>\n",
       "      <td>5.947397</td>\n",
       "      <td>2.522771e+01</td>\n",
       "      <td>2.529277</td>\n",
       "      <td>11.599335</td>\n",
       "      <td>0.287126</td>\n",
       "      <td>102.917926</td>\n",
       "      <td>11.860942</td>\n",
       "      <td>2.259958</td>\n",
       "    </tr>\n",
       "    <tr>\n",
       "      <th>std</th>\n",
       "      <td>31623.043426</td>\n",
       "      <td>252.898046</td>\n",
       "      <td>9.807371</td>\n",
       "      <td>1.098154</td>\n",
       "      <td>1.070497</td>\n",
       "      <td>0.143488</td>\n",
       "      <td>0.753297</td>\n",
       "      <td>0.752935</td>\n",
       "      <td>2395.489999</td>\n",
       "      <td>213.955844</td>\n",
       "      <td>...</td>\n",
       "      <td>3.947108e+03</td>\n",
       "      <td>194.324264</td>\n",
       "      <td>0.394936</td>\n",
       "      <td>5.251842e+03</td>\n",
       "      <td>174.419034</td>\n",
       "      <td>1.520138</td>\n",
       "      <td>0.452422</td>\n",
       "      <td>107.090673</td>\n",
       "      <td>6.176889</td>\n",
       "      <td>1.657263</td>\n",
       "    </tr>\n",
       "    <tr>\n",
       "      <th>min</th>\n",
       "      <td>1.000000</td>\n",
       "      <td>-1.000000</td>\n",
       "      <td>-1.000000</td>\n",
       "      <td>-0.057471</td>\n",
       "      <td>-0.057471</td>\n",
       "      <td>0.000000</td>\n",
       "      <td>0.000000</td>\n",
       "      <td>0.000000</td>\n",
       "      <td>-82.130000</td>\n",
       "      <td>0.333495</td>\n",
       "      <td>...</td>\n",
       "      <td>-8.213000e+01</td>\n",
       "      <td>0.167045</td>\n",
       "      <td>1.000000</td>\n",
       "      <td>-8.213000e+01</td>\n",
       "      <td>0.098330</td>\n",
       "      <td>1.000000</td>\n",
       "      <td>0.000000</td>\n",
       "      <td>-1.000000</td>\n",
       "      <td>-1.000000</td>\n",
       "      <td>-1.000000</td>\n",
       "    </tr>\n",
       "    <tr>\n",
       "      <th>25%</th>\n",
       "      <td>3612.000000</td>\n",
       "      <td>222.000000</td>\n",
       "      <td>19.000000</td>\n",
       "      <td>-0.057471</td>\n",
       "      <td>-0.057471</td>\n",
       "      <td>0.000000</td>\n",
       "      <td>3.000000</td>\n",
       "      <td>3.000000</td>\n",
       "      <td>0.880000</td>\n",
       "      <td>0.923650</td>\n",
       "      <td>...</td>\n",
       "      <td>8.500000e-01</td>\n",
       "      <td>0.902247</td>\n",
       "      <td>6.000000</td>\n",
       "      <td>8.500000e-01</td>\n",
       "      <td>0.898333</td>\n",
       "      <td>12.000000</td>\n",
       "      <td>0.000000</td>\n",
       "      <td>-1.000000</td>\n",
       "      <td>9.000000</td>\n",
       "      <td>1.000000</td>\n",
       "    </tr>\n",
       "    <tr>\n",
       "      <th>50%</th>\n",
       "      <td>19900.000000</td>\n",
       "      <td>373.000000</td>\n",
       "      <td>27.000000</td>\n",
       "      <td>-0.057471</td>\n",
       "      <td>-0.057471</td>\n",
       "      <td>0.000000</td>\n",
       "      <td>4.000000</td>\n",
       "      <td>4.000000</td>\n",
       "      <td>1.000000</td>\n",
       "      <td>1.016667</td>\n",
       "      <td>...</td>\n",
       "      <td>1.010000e+00</td>\n",
       "      <td>1.026961</td>\n",
       "      <td>6.000000</td>\n",
       "      <td>1.020000e+00</td>\n",
       "      <td>1.043361</td>\n",
       "      <td>12.000000</td>\n",
       "      <td>0.000000</td>\n",
       "      <td>69.000000</td>\n",
       "      <td>9.000000</td>\n",
       "      <td>1.000000</td>\n",
       "    </tr>\n",
       "    <tr>\n",
       "      <th>75%</th>\n",
       "      <td>51707.250000</td>\n",
       "      <td>683.000000</td>\n",
       "      <td>33.000000</td>\n",
       "      <td>-0.047556</td>\n",
       "      <td>-0.047556</td>\n",
       "      <td>0.000000</td>\n",
       "      <td>4.000000</td>\n",
       "      <td>4.000000</td>\n",
       "      <td>1.160000</td>\n",
       "      <td>1.146522</td>\n",
       "      <td>...</td>\n",
       "      <td>1.230000e+00</td>\n",
       "      <td>1.215575</td>\n",
       "      <td>6.000000</td>\n",
       "      <td>1.290000e+00</td>\n",
       "      <td>1.266480</td>\n",
       "      <td>12.000000</td>\n",
       "      <td>1.000000</td>\n",
       "      <td>182.000000</td>\n",
       "      <td>16.000000</td>\n",
       "      <td>4.000000</td>\n",
       "    </tr>\n",
       "    <tr>\n",
       "      <th>max</th>\n",
       "      <td>112586.000000</td>\n",
       "      <td>891.000000</td>\n",
       "      <td>41.000000</td>\n",
       "      <td>183.735111</td>\n",
       "      <td>182.079322</td>\n",
       "      <td>1.000000</td>\n",
       "      <td>4.000000</td>\n",
       "      <td>4.000000</td>\n",
       "      <td>851844.640000</td>\n",
       "      <td>61851.333333</td>\n",
       "      <td>...</td>\n",
       "      <td>1.513959e+06</td>\n",
       "      <td>56077.500000</td>\n",
       "      <td>6.000000</td>\n",
       "      <td>2.567408e+06</td>\n",
       "      <td>50215.555556</td>\n",
       "      <td>12.000000</td>\n",
       "      <td>1.000000</td>\n",
       "      <td>347.000000</td>\n",
       "      <td>24.000000</td>\n",
       "      <td>5.000000</td>\n",
       "    </tr>\n",
       "  </tbody>\n",
       "</table>\n",
       "<p>8 rows × 21 columns</p>\n",
       "</div>"
      ],
      "text/plain": [
       "       merchant_group_id  merchant_category_id   subsector_id    numerical_1  \\\n",
       "count      334696.000000         334696.000000  334696.000000  334696.000000   \n",
       "mean        31028.736143            423.131663      25.116404       0.011476   \n",
       "std         31623.043426            252.898046       9.807371       1.098154   \n",
       "min             1.000000             -1.000000      -1.000000      -0.057471   \n",
       "25%          3612.000000            222.000000      19.000000      -0.057471   \n",
       "50%         19900.000000            373.000000      27.000000      -0.057471   \n",
       "75%         51707.250000            683.000000      33.000000      -0.047556   \n",
       "max        112586.000000            891.000000      41.000000     183.735111   \n",
       "\n",
       "         numerical_2     category_1  most_recent_sales_range  \\\n",
       "count  334696.000000  334696.000000            334696.000000   \n",
       "mean        0.008103       0.021031                 3.388233   \n",
       "std         1.070497       0.143488                 0.753297   \n",
       "min        -0.057471       0.000000                 0.000000   \n",
       "25%        -0.057471       0.000000                 3.000000   \n",
       "50%        -0.057471       0.000000                 4.000000   \n",
       "75%        -0.047556       0.000000                 4.000000   \n",
       "max       182.079322       1.000000                 4.000000   \n",
       "\n",
       "       most_recent_purchases_range  avg_sales_lag3  avg_purchases_lag3  ...  \\\n",
       "count                334696.000000   334683.000000       334696.000000  ...   \n",
       "mean                      3.382565       13.832993            2.145143  ...   \n",
       "std                       0.752935     2395.489999          213.955844  ...   \n",
       "min                       0.000000      -82.130000            0.333495  ...   \n",
       "25%                       3.000000        0.880000            0.923650  ...   \n",
       "50%                       4.000000        1.000000            1.016667  ...   \n",
       "75%                       4.000000        1.160000            1.146522  ...   \n",
       "max                       4.000000   851844.640000        61851.333333  ...   \n",
       "\n",
       "       avg_sales_lag6  avg_purchases_lag6  active_months_lag6  \\\n",
       "count    3.346830e+05       334696.000000       334696.000000   \n",
       "mean     2.165079e+01            2.390194            5.947397   \n",
       "std      3.947108e+03          194.324264            0.394936   \n",
       "min     -8.213000e+01            0.167045            1.000000   \n",
       "25%      8.500000e-01            0.902247            6.000000   \n",
       "50%      1.010000e+00            1.026961            6.000000   \n",
       "75%      1.230000e+00            1.215575            6.000000   \n",
       "max      1.513959e+06        56077.500000            6.000000   \n",
       "\n",
       "       avg_sales_lag12  avg_purchases_lag12  active_months_lag12  \\\n",
       "count     3.346830e+05        334696.000000        334696.000000   \n",
       "mean      2.522771e+01             2.529277            11.599335   \n",
       "std       5.251842e+03           174.419034             1.520138   \n",
       "min      -8.213000e+01             0.098330             1.000000   \n",
       "25%       8.500000e-01             0.898333            12.000000   \n",
       "50%       1.020000e+00             1.043361            12.000000   \n",
       "75%       1.290000e+00             1.266480            12.000000   \n",
       "max       2.567408e+06         50215.555556            12.000000   \n",
       "\n",
       "          category_4        city_id       state_id     category_2  \n",
       "count  334696.000000  334696.000000  334696.000000  334696.000000  \n",
       "mean        0.287126     102.917926      11.860942       2.259958  \n",
       "std         0.452422     107.090673       6.176889       1.657263  \n",
       "min         0.000000      -1.000000      -1.000000      -1.000000  \n",
       "25%         0.000000      -1.000000       9.000000       1.000000  \n",
       "50%         0.000000      69.000000       9.000000       1.000000  \n",
       "75%         1.000000     182.000000      16.000000       4.000000  \n",
       "max         1.000000     347.000000      24.000000       5.000000  \n",
       "\n",
       "[8 rows x 21 columns]"
      ]
     },
     "execution_count": 18,
     "metadata": {},
     "output_type": "execute_result"
    }
   ],
   "source": [
    "inf_cols = ['avg_purchases_lag3', 'avg_purchases_lag6', 'avg_purchases_lag12']\n",
    "\n",
    "# replace infinity with second largest values\n",
    "df_merchant = reformat_dataframe(df_merchant, inf_cols, lambda df: df.replace(np.inf, df[df != np.inf].max()))\n",
    "df_merchant.describe()"
   ]
  },
  {
   "cell_type": "markdown",
   "metadata": {},
   "source": [
    "Fill nans with mean values"
   ]
  },
  {
   "cell_type": "code",
   "execution_count": 19,
   "metadata": {},
   "outputs": [
    {
     "data": {
      "text/plain": [
       "merchant_id                    0\n",
       "merchant_group_id              0\n",
       "merchant_category_id           0\n",
       "subsector_id                   0\n",
       "numerical_1                    0\n",
       "numerical_2                    0\n",
       "category_1                     0\n",
       "most_recent_sales_range        0\n",
       "most_recent_purchases_range    0\n",
       "avg_sales_lag3                 0\n",
       "avg_purchases_lag3             0\n",
       "active_months_lag3             0\n",
       "avg_sales_lag6                 0\n",
       "avg_purchases_lag6             0\n",
       "active_months_lag6             0\n",
       "avg_sales_lag12                0\n",
       "avg_purchases_lag12            0\n",
       "active_months_lag12            0\n",
       "category_4                     0\n",
       "city_id                        0\n",
       "state_id                       0\n",
       "category_2                     0\n",
       "dtype: int64"
      ]
     },
     "execution_count": 19,
     "metadata": {},
     "output_type": "execute_result"
    }
   ],
   "source": [
    "df_merchant = reformat_dataframe(df_merchant, merchants_numeric_cols, lambda df: df.fillna(df.mean()))\n",
    "\n",
    "nans(df_merchant)\n"
   ]
  },
  {
   "cell_type": "markdown",
   "metadata": {},
   "source": [
    "# History Transaction and New Merchant Transaction Data Purge\n",
    "\n",
    "These two datasets will be purged all together bacause they are highly relevant. In order to process the datasets efficiently we will use a StreamerBuilder to process the data chunk by chunk"
   ]
  },
  {
   "cell_type": "code",
   "execution_count": 20,
   "metadata": {},
   "outputs": [
    {
     "name": "stdout",
     "output_type": "stream",
     "text": [
      "<class 'pandas.core.frame.DataFrame'>\n",
      "RangeIndex: 1963031 entries, 0 to 1963030\n",
      "Data columns (total 14 columns):\n",
      " #   Column                Dtype  \n",
      "---  ------                -----  \n",
      " 0   authorized_flag       object \n",
      " 1   card_id               object \n",
      " 2   city_id               int64  \n",
      " 3   category_1            object \n",
      " 4   installments          int64  \n",
      " 5   category_3            object \n",
      " 6   merchant_category_id  int64  \n",
      " 7   merchant_id           object \n",
      " 8   month_lag             int64  \n",
      " 9   purchase_amount       float64\n",
      " 10  purchase_date         object \n",
      " 11  category_2            float64\n",
      " 12  state_id              int64  \n",
      " 13  subsector_id          int64  \n",
      "dtypes: float64(2), int64(6), object(6)\n",
      "memory usage: 209.7+ MB\n"
     ]
    }
   ],
   "source": [
    "\n",
    "chunksize=10 ** 6\n",
    "\n",
    "def histories_builder() -> StreamerBuilder[pd.DataFrame] :\n",
    "    return StreamerBuilder.build(pd.read_csv(os.path.join(DATA_DIR, \"historical_transactions.csv\"),\n",
    "                       chunksize=chunksize))\n",
    "\n",
    "def append_df(df1, df2):\n",
    "    return df1.append(df2)\n",
    "\n",
    "def sum_df(df1, df2):\n",
    "    return df1.add(df2)\n",
    "\n",
    "df_new_merchants = pd.read_csv(os.path.join(DATA_DIR, \"new_merchant_transactions.csv\"))\n",
    "df_new_merchants.info()\n"
   ]
  },
  {
   "cell_type": "markdown",
   "metadata": {},
   "source": [
    "We will firstly check the dulplciate columns"
   ]
  },
  {
   "cell_type": "code",
   "execution_count": 21,
   "metadata": {},
   "outputs": [],
   "source": [
    "duplicate_cols = []\n",
    "\n",
    "for col in df_new_merchants.columns:\n",
    "    if col in df_merchant.columns:\n",
    "        duplicate_cols.append(col)\n",
    "\n",
    "duplicate_cols = ['merchant_id', 'city_id', 'category_1', 'merchant_category_id', 'category_2', 'state_id', 'subsector_id']\n",
    "df_merchant = df_merchant.drop(duplicate_cols[1:], axis=1)\n",
    "df_merchant = df_merchant.loc[df_merchant['merchant_id'].drop_duplicates().index]\n",
    "df_merchant.to_csv(os.path.join(OUT_DIR, 'merchants_pre.csv'), index=False)"
   ]
  },
  {
   "cell_type": "code",
   "execution_count": 22,
   "metadata": {},
   "outputs": [
    {
     "data": {
      "text/plain": [
       "(291242, 7)"
      ]
     },
     "execution_count": 22,
     "metadata": {},
     "output_type": "execute_result"
    }
   ],
   "source": [
    "df_new_merchants[duplicate_cols].drop_duplicates().shape"
   ]
  },
  {
   "cell_type": "markdown",
   "metadata": {
    "collapsed": false
   },
   "source": [
    "We then merge merhcants_pre table to our transactions table"
   ]
  },
  {
   "cell_type": "code",
   "execution_count": 23,
   "metadata": {
    "collapsed": false,
    "pycharm": {
     "name": "#%%\n"
    }
   },
   "outputs": [],
   "source": [
    "df_new_merchants['merchant_id'].nunique()\n",
    "cols = ['most_recent_sales_range', 'most_recent_purchases_range', 'numerical_1', 'numerical_2', 'merchant_id']\n",
    "df_new_merchants = df_new_merchants.merge(df_merchant[cols], how='left', on='merchant_id')"
   ]
  },
  {
   "cell_type": "code",
   "execution_count": 24,
   "metadata": {
    "collapsed": false,
    "pycharm": {
     "name": "#%%\n"
    }
   },
   "outputs": [],
   "source": [
    "transactions_numeric = ['month_lag', 'installments', 'purchase_amount', 'numerical_1', 'numerical_2']\n",
    "transactions_category = ['card_id', 'authorized_flag', 'category_3', 'category_1', 'merchant_category_id', 'subsector_id', 'merchant_id', 'city_id', \"state_id\", 'category_2', 'most_recent_sales_range', 'most_recent_purchases_range']\n",
    "# reserved for time series model\n",
    "transactions_time_cols = ['purchase_date']\n",
    "\n",
    "\n",
    "assert len(df_new_merchants.columns) == len(transactions_category) + len(transactions_numeric) + len(transactions_time_cols)"
   ]
  },
  {
   "cell_type": "code",
   "execution_count": 25,
   "metadata": {},
   "outputs": [
    {
     "data": {
      "text/plain": [
       "card_id                         object\n",
       "authorized_flag                 object\n",
       "category_3                      object\n",
       "category_1                      object\n",
       "merchant_category_id             int64\n",
       "subsector_id                     int64\n",
       "merchant_id                     object\n",
       "city_id                          int64\n",
       "state_id                         int64\n",
       "category_2                     float64\n",
       "most_recent_sales_range        float64\n",
       "most_recent_purchases_range    float64\n",
       "dtype: object"
      ]
     },
     "execution_count": 25,
     "metadata": {},
     "output_type": "execute_result"
    }
   ],
   "source": [
    "df_new_merchants[transactions_category].dtypes"
   ]
  },
  {
   "cell_type": "code",
   "execution_count": 26,
   "metadata": {
    "collapsed": false,
    "pycharm": {
     "name": "#%%\n"
    }
   },
   "outputs": [
    {
     "data": {
      "text/plain": [
       "month_lag            int64\n",
       "installments         int64\n",
       "purchase_amount    float64\n",
       "numerical_1        float64\n",
       "numerical_2        float64\n",
       "dtype: object"
      ]
     },
     "execution_count": 26,
     "metadata": {},
     "output_type": "execute_result"
    }
   ],
   "source": [
    "df_new_merchants[transactions_numeric].dtypes"
   ]
  },
  {
   "cell_type": "code",
   "execution_count": 27,
   "metadata": {},
   "outputs": [
    {
     "data": {
      "text/plain": [
       "authorized_flag                     0\n",
       "card_id                             0\n",
       "city_id                             0\n",
       "category_1                          0\n",
       "installments                        0\n",
       "category_3                      55922\n",
       "merchant_category_id                0\n",
       "merchant_id                     26216\n",
       "month_lag                           0\n",
       "purchase_amount                     0\n",
       "purchase_date                       0\n",
       "category_2                     111745\n",
       "state_id                            0\n",
       "subsector_id                        0\n",
       "most_recent_sales_range         26216\n",
       "most_recent_purchases_range     26216\n",
       "numerical_1                     26216\n",
       "numerical_2                     26216\n",
       "dtype: int64"
      ]
     },
     "execution_count": 27,
     "metadata": {},
     "output_type": "execute_result"
    }
   ],
   "source": [
    "nans(df_new_merchants)"
   ]
  },
  {
   "cell_type": "code",
   "execution_count": 28,
   "metadata": {},
   "outputs": [],
   "source": [
    "features = ['authorized_flag', 'category_1', 'category_3']\n",
    "df_new_merchants = reformat_dataframe(df_new_merchants, features, change_object_col)\n",
    "\n",
    "\n",
    "# convert dtype to small int\n",
    "df_new_merchants['category_2'].fillna(-1, inplace=True)\n",
    "df_new_merchants['category_2'] = df_new_merchants['category_2'].astype(np.int8)\n",
    "df_new_merchants['category_1'] = df_new_merchants['category_1'].astype(np.int8)\n",
    "df_new_merchants['authorized_flag'] = df_new_merchants['authorized_flag'].astype(np.int8)\n",
    "df_new_merchants['installments'] = df_new_merchants['installments'].astype(np.int8)\n",
    "df_new_merchants['state_id'] = df_new_merchants['state_id'].astype(np.int8)\n",
    "df_new_merchants['city_id'] = df_new_merchants['city_id'].astype(np.int8)\n",
    "df_new_merchants['subsector_id'] = df_new_merchants['subsector_id'].astype(np.int8)"
   ]
  },
  {
   "cell_type": "code",
   "execution_count": 30,
   "metadata": {},
   "outputs": [
    {
     "name": "stdout",
     "output_type": "stream",
     "text": [
      "<class 'pandas.core.frame.DataFrame'>\n",
      "Int64Index: 1963031 entries, 0 to 1963030\n",
      "Data columns (total 22 columns):\n",
      " #   Column                       Dtype  \n",
      "---  ------                       -----  \n",
      " 0   authorized_flag              int8   \n",
      " 1   card_id                      object \n",
      " 2   city_id                      int8   \n",
      " 3   category_1                   int8   \n",
      " 4   installments                 int8   \n",
      " 5   category_3                   int64  \n",
      " 6   merchant_category_id         int64  \n",
      " 7   merchant_id                  object \n",
      " 8   month_lag                    int64  \n",
      " 9   purchase_amount              float64\n",
      " 10  purchase_date                object \n",
      " 11  category_2                   int8   \n",
      " 12  state_id                     int8   \n",
      " 13  subsector_id                 int8   \n",
      " 14  most_recent_sales_range      float64\n",
      " 15  most_recent_purchases_range  float64\n",
      " 16  numerical_1                  float64\n",
      " 17  numerical_2                  float64\n",
      " 18  purchase_day                 int64  \n",
      " 19  purchase_month               int64  \n",
      " 20  purchase_year                int64  \n",
      " 21  purchase_hour_section        object \n",
      "dtypes: float64(5), int64(6), int8(7), object(4)\n",
      "memory usage: 252.7+ MB\n"
     ]
    }
   ],
   "source": [
    "# convert purchase date to timeseries\n",
    "datetime_index = pd.DatetimeIndex(df_new_merchants['purchase_date'])\n",
    "df_new_merchants.info()\n",
    "transactions_dtype = df_new_merchants.dtypes\n",
    "df_new_merchants['purchase_day'] = datetime_index.day\n",
    "df_new_merchants['purchase_month'] = datetime_index.month\n",
    "df_new_merchants['purchase_year'] = datetime_index.year\n",
    "df_new_merchants['purchase_hour_section'] = datetime_index.time\n",
    "\n",
    "transactions_features = df_new_merchants.columns\n",
    "transactions_path = os.path.join(OUT_DIR, 'transactions_pre.csv')\n",
    "if os.path.exists(transactions_path):\n",
    "    os.remove(transactions_path)\n",
    "df_new_merchants.to_csv(transactions_path, mode='a', index=False)\n"
   ]
  },
  {
   "cell_type": "markdown",
   "metadata": {},
   "source": [
    "There is no need to fill numerical columns since they don't have nans"
   ]
  },
  {
   "cell_type": "code",
   "execution_count": 31,
   "metadata": {},
   "outputs": [
    {
     "name": "stdout",
     "output_type": "stream",
     "text": [
      "authorized_flag               0\n",
      "card_id                       0\n",
      "city_id                       0\n",
      "category_1                    0\n",
      "installments                  0\n",
      "category_3               178159\n",
      "merchant_category_id          0\n",
      "merchant_id              138481\n",
      "month_lag                     0\n",
      "purchase_amount               0\n",
      "purchase_date                 0\n",
      "category_2              2652864\n",
      "state_id                      0\n",
      "subsector_id                  0\n",
      "dtype: int64\n"
     ]
    }
   ],
   "source": [
    "histories_nans = histories_builder().map(nans).reduce(sum_df).collect(identity)\n",
    "print(histories_nans)"
   ]
  },
  {
   "cell_type": "code",
   "execution_count": 32,
   "metadata": {
    "collapsed": false,
    "pycharm": {
     "name": "#%%\n"
    }
   },
   "outputs": [
    {
     "data": {
      "text/plain": [
       "14177"
      ]
     },
     "execution_count": 32,
     "metadata": {},
     "output_type": "execute_result"
    }
   ],
   "source": [
    "# reserved for large memory write-ins\n",
    "del df_new_merchants, datetime_index\n",
    "gc.collect()"
   ]
  },
  {
   "cell_type": "markdown",
   "metadata": {},
   "source": [
    "As we can discover the history columns and new merchants columns are the same, so we can easily using the above methods again."
   ]
  },
  {
   "cell_type": "code",
   "execution_count": 33,
   "metadata": {},
   "outputs": [],
   "source": [
    "def add_datetime_index(df: pd.DataFrame):\n",
    "    _datetime_index = pd.DatetimeIndex(df['purchase_date'])\n",
    "    df['purchase_day'] = _datetime_index.day\n",
    "    df['purchase_month'] = _datetime_index.month\n",
    "    df['purchase_year'] = _datetime_index.year\n",
    "    df['purchase_hour_section'] = _datetime_index.time\n",
    "    return df\n",
    "\n",
    "def convert_columns(df: pd.DataFrame):\n",
    "    df['category_2'].fillna(-1, inplace=True)\n",
    "    return df\n",
    "\n",
    "# define behaviours\n",
    "to_csv_builder = histories_builder() \\\n",
    "                    .map(lambda df: reformat_dataframe(df, features, change_object_col)) \\\n",
    "                    .map(lambda df: df.merge(df_merchant[cols], how='left', on='merchant_id')) \\\n",
    "                    .map(convert_columns) \\\n",
    "                    .map(add_datetime_index)\n",
    "\n",
    "# write to csv\n",
    "to_csv_builder.consume(lambda df: df.to_csv(transactions_path, mode='a', index=False, header=False))\n",
    "\n",
    "del to_csv_builder\n"
   ]
  },
  {
   "cell_type": "markdown",
   "metadata": {},
   "source": [
    "# 1.2 Features Engineering"
   ]
  },
  {
   "cell_type": "markdown",
   "metadata": {},
   "source": [
    "We will extract each columns by their numerical features and append them to the end"
   ]
  },
  {
   "cell_type": "code",
   "execution_count": 34,
   "metadata": {},
   "outputs": [],
   "source": [
    "def create_aggs_cols() -> t.Tuple[t.Dict[str, str], t.List[str]]:\n",
    "    aggs = {}\n",
    "    for col in transactions_numeric:\n",
    "        aggs[col] = ['nunique', 'mean', 'min', 'max', 'var', 'skew', 'sum']\n",
    "    for col in transactions_category:\n",
    "        aggs[col] = ['nunique']\n",
    "    aggs['card_id'] = ['size', 'count']\n",
    "    cols = []\n",
    "    for key in aggs.keys():\n",
    "        cols.extend([key+\"_\"+stat for stat in aggs[key]])\n",
    "    return aggs, cols"
   ]
  },
  {
   "cell_type": "code",
   "execution_count": 35,
   "metadata": {},
   "outputs": [],
   "source": [
    "\n",
    "@enable_logging(\"append_new_columns.log\")\n",
    "def append_new_columns(transaction, aggs, cols):\n",
    "    df = transaction[transaction['month_lag'] < 0].groupby('card_id').agg(aggs)\n",
    "    df.columns = [co + \"_hist\" for co in cols]\n",
    "    df2 = transaction[transaction['month_lag'] >= 0].groupby('card_id').agg(aggs)\n",
    "    df2.columns =[co + \"_hist\" for co in cols]\n",
    "    df = df.reset_index()\n",
    "    df2 = df2.reset_index()\n",
    "    df = df.merge(df2, how='left', on='card_id')\n",
    "    df2 = transaction.groupby('card_id').agg(aggs)\n",
    "    df2.columns = cols\n",
    "    df2 = df2.reset_index()\n",
    "    if not df.empty:\n",
    "        df = df.merge(df2, how='left', on='card_id')\n",
    "    else:\n",
    "        df = df2.copy()\n",
    "    del transaction\n",
    "    gc.collect()\n",
    "    return df\n",
    "\n",
    "@enable_logging(\"to_train_test.log\")\n",
    "def to_train_test(df):\n",
    "    train = pd.read_csv(os.path.join(OUT_DIR, \"train_pre.csv\"))\n",
    "    train = train.merge(df, how='left', on='card_id')\n",
    "    logging.debug(f'Training df after first merge')\n",
    "\n",
    "    test = pd.read_csv(os.path.join(OUT_DIR, \"test_pre.csv\"))\n",
    "    test = test.merge(df, how='left', on='card_id')\n",
    "    return train, test\n",
    "\n",
    "@enable_logging(\"write_to_csv.log\")\n",
    "def write_to_csv(train, test):\n",
    "    train.to_csv(os.path.join(OUT_DIR, \"train_groupby.csv\"), index=False, mode='a')\n",
    "    test.to_csv(os.path.join(OUT_DIR, \"test_groupby.csv\"), index=False, mode='a')\n",
    "    gc.collect()\n"
   ]
  },
  {
   "cell_type": "markdown",
   "metadata": {},
   "source": [
    "The Following block is extremely time-consuming, run with caution."
   ]
  },
  {
   "cell_type": "code",
   "execution_count": 36,
   "metadata": {
    "pycharm": {
     "name": "#%%\n"
    }
   },
   "outputs": [],
   "source": [
    "train_groupby, test_groupby = os.path.join(OUT_DIR, \"train_groupby.csv\"), os.path.join(OUT_DIR, \"test_groupby.csv\")\n",
    "if os.path.exists(train_groupby):\n",
    "    os.remove(train_groupby)\n",
    "if os.path.exists(test_groupby):\n",
    "    os.remove(test_groupby)\n",
    "\n",
    "aggs, cols = create_aggs_cols()\n",
    "\n",
    "dtype = transactions_dtype.to_dict()\n",
    "\n",
    "# we will use dtypes collected from previous to save memory\n",
    "transactions = pd.read_csv(os.path.join(OUT_DIR, \"transactions_pre.csv\"), dtype=dtype)\n",
    "transactions = append_new_columns(transactions, aggs, cols)\n",
    "train, test = to_train_test(transactions)\n"
   ]
  },
  {
   "cell_type": "markdown",
   "metadata": {},
   "source": [
    "We need to reformat the dataframe sothat the dataframe is readyly used by our model"
   ]
  },
  {
   "cell_type": "code",
   "execution_count": 37,
   "metadata": {
    "pycharm": {
     "name": "#%%\n"
    }
   },
   "outputs": [
    {
     "name": "stdout",
     "output_type": "stream",
     "text": [
      "       first_active_month      feature_1      feature_2      feature_3  \\\n",
      "count       199710.000000  199710.000000  199710.000000  199710.000000   \n",
      "mean            62.544830       3.103996       1.745000       0.565285   \n",
      "std              9.622461       1.185855       0.750679       0.495721   \n",
      "min              0.000000       1.000000       1.000000       0.000000   \n",
      "25%             59.000000       2.000000       1.000000       0.000000   \n",
      "50%             65.000000       3.000000       2.000000       1.000000   \n",
      "75%             70.000000       4.000000       2.000000       1.000000   \n",
      "max             75.000000       5.000000       3.000000       1.000000   \n",
      "\n",
      "              target  month_lag_nunique_hist_x  month_lag_mean_hist_x  \\\n",
      "count  199710.000000             199710.000000          199710.000000   \n",
      "mean       -0.030879                  6.964529              -4.333422   \n",
      "std         1.717793                  3.584448               2.101526   \n",
      "min       -17.608147                  1.000000             -12.923077   \n",
      "25%        -0.844513                  4.000000              -6.016667   \n",
      "50%        -0.007783                  6.000000              -4.071429   \n",
      "75%         0.777331                 10.000000              -2.518519   \n",
      "max        17.965068                 13.000000              -1.000000   \n",
      "\n",
      "       month_lag_min_hist_x  month_lag_max_hist_x  month_lag_var_hist_x  ...  \\\n",
      "count         199710.000000         199710.000000         199593.000000  ...   \n",
      "mean              -7.871429             -1.168720              5.977926  ...   \n",
      "std                3.853777              0.661178              5.546639  ...   \n",
      "min              -13.000000            -12.000000              0.000000  ...   \n",
      "25%              -12.000000             -1.000000              1.207895  ...   \n",
      "50%               -8.000000             -1.000000              4.022727  ...   \n",
      "75%               -4.000000             -1.000000             10.201631  ...   \n",
      "max               -1.000000             -1.000000             60.500000  ...   \n",
      "\n",
      "       category_3_nunique  category_1_nunique  merchant_category_id_nunique  \\\n",
      "count       199710.000000       199710.000000                 199710.000000   \n",
      "mean             2.038761            1.464854                     20.671644   \n",
      "std              0.794161            0.498764                     12.050199   \n",
      "min              1.000000            1.000000                      1.000000   \n",
      "25%              1.000000            1.000000                     12.000000   \n",
      "50%              2.000000            1.000000                     18.000000   \n",
      "75%              3.000000            2.000000                     27.000000   \n",
      "max              4.000000            2.000000                     98.000000   \n",
      "\n",
      "       subsector_id_nunique  merchant_id_nunique  city_id_nunique  \\\n",
      "count         199710.000000        199710.000000    199710.000000   \n",
      "mean              12.591418            39.702859         5.406850   \n",
      "std                5.221531            34.284580         3.748335   \n",
      "min                1.000000             1.000000         1.000000   \n",
      "25%                9.000000            17.000000         3.000000   \n",
      "50%               12.000000            30.000000         5.000000   \n",
      "75%               16.000000            51.000000         7.000000   \n",
      "max               34.000000           494.000000        65.000000   \n",
      "\n",
      "       state_id_nunique  category_2_nunique  most_recent_sales_range_nunique  \\\n",
      "count     199710.000000       199710.000000                    199710.000000   \n",
      "mean           2.927400            2.337885                         4.723870   \n",
      "std            1.601394            1.050419                         0.679842   \n",
      "min            1.000000            1.000000                         1.000000   \n",
      "25%            2.000000            2.000000                         5.000000   \n",
      "50%            3.000000            2.000000                         5.000000   \n",
      "75%            4.000000            3.000000                         5.000000   \n",
      "max           22.000000            6.000000                         5.000000   \n",
      "\n",
      "       most_recent_purchases_range_nunique  \n",
      "count                        199710.000000  \n",
      "mean                              4.725422  \n",
      "std                               0.668645  \n",
      "min                               1.000000  \n",
      "25%                               5.000000  \n",
      "50%                               5.000000  \n",
      "75%                               5.000000  \n",
      "max                               5.000000  \n",
      "\n",
      "[8 rows x 149 columns]\n"
     ]
    }
   ],
   "source": [
    "\n",
    "print(train.describe())\n",
    "features = train.columns.tolist()\n",
    "features.remove('target')\n",
    "\n",
    "\n",
    "for feature in features:\n",
    "    if train[feature].isnull().any():\n",
    "        train[feature].fillna(train[feature].mean(), inplace=True)\n",
    "    if test[feature].isnull().any():\n",
    "        test[feature].fillna(test[feature].mean(), inplace=True)\n",
    "\n",
    "\n",
    "train.to_csv(os.path.join(OUT_DIR, \"train_groupby.csv\"), index=False)\n",
    "test.to_csv(os.path.join(OUT_DIR, \"test_groupby.csv\"), index=False)"
   ]
  }
 ],
 "metadata": {
  "interpreter": {
   "hash": "ccbb4ca7fe902b23c4d3bf398cc69bd54ad114cdf2cf797081a3177c4f0863aa"
  },
  "kernelspec": {
   "display_name": "Python 3.9.9 64-bit ('lama_gpu': conda)",
   "language": "python",
   "name": "python3"
  },
  "language_info": {
   "codemirror_mode": {
    "name": "ipython",
    "version": 3
   },
   "file_extension": ".py",
   "mimetype": "text/x-python",
   "name": "python",
   "nbconvert_exporter": "python",
   "pygments_lexer": "ipython3",
   "version": "3.9.9"
  },
  "orig_nbformat": 4
 },
 "nbformat": 4,
 "nbformat_minor": 2
}
